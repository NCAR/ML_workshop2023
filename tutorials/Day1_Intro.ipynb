{
 "cells": [
  {
   "cell_type": "markdown",
   "id": "14da2668-c21c-43f4-ac20-291d84cfc01f",
   "metadata": {},
   "source": [
    "## Introduction to Machine Learning\n",
    "\n",
    "### What we will (and won't) be covering\n",
    "\n",
    "* What to expect (Goals by end of course)\n",
    "    * Understanding of the different machine learning paradigms with applied use cases for unsupervised and supervised datasets (weather and climate domains)\n",
    "    * The Sklearn API\n",
    "    * Understanding of cost functions and the thoeory of gradient descent\n",
    "    * How to frame a Supervised machine learning problem in both a regression and classification setting\n",
    "    * Foundational understanding of preprocessing techniques (scaling, data partioning, sampling)\n",
    "    * Theorhetical understanding of a few differnt basic ML algorythms\n",
    "    * Common ML evaluation techniques including uncertainty estimates\n",
    "    * Applied use of variaous ML problems with a variety of datasets across entire pipeline\n",
    "        *  data exploration -> Frame problem -> feature selection / transforamtion -> train -> evaluate  \n",
    "\n",
    " \n",
    "\n",
    "## So what constitutes \"Machine Learning\"?\n",
    "\n",
    "#### Advantages\n",
    "\n",
    "#### Disadvantages\n",
    "\n",
    "## Intersection with Statistics / Data Assimilation\n",
    "\n",
    "## The Major Machine Learning Paradigms\n",
    "\n",
    "#### Unsupervised\n",
    "\n",
    "#### Supervised\n",
    "\n",
    "#### Semi-supervised\n",
    "\n",
    "#### Reinforcement Learning\n",
    "\n",
    "### Discussion of Data Challenges in ML\n",
    "\n",
    "# The Sklearn (Sci-kit Learn) API\n"
   ]
  },
  {
   "cell_type": "code",
   "execution_count": null,
   "id": "ee21d060-20d9-4106-9f0e-4e4f342c925b",
   "metadata": {},
   "outputs": [],
   "source": []
  }
 ],
 "metadata": {
  "kernelspec": {
   "display_name": "Python 3 (ipykernel)",
   "language": "python",
   "name": "python3"
  },
  "language_info": {
   "codemirror_mode": {
    "name": "ipython",
    "version": 3
   },
   "file_extension": ".py",
   "mimetype": "text/x-python",
   "name": "python",
   "nbconvert_exporter": "python",
   "pygments_lexer": "ipython3",
   "version": "3.10.12"
  }
 },
 "nbformat": 4,
 "nbformat_minor": 5
}
