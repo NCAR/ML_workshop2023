{
 "cells": [
  {
   "cell_type": "markdown",
   "id": "baa12fbf-08ca-44e3-9c8e-7a17c40c3ca6",
   "metadata": {},
   "source": [
    "# Restart Kernal and Run All Cells"
   ]
  },
  {
   "cell_type": "markdown",
   "id": "f7b213df-00cd-4859-b2fc-ccd61f1a18cb",
   "metadata": {},
   "source": [
    "Do this notebook first to download the other, larger datasets :) If you have any issues, please send Thomas Martin (tmartin at ucar dot edu) a note."
   ]
  },
  {
   "cell_type": "code",
   "execution_count": 1,
   "id": "b2ac756a-ceb9-49e7-9211-2c7a57d005bd",
   "metadata": {
    "tags": []
   },
   "outputs": [
    {
     "name": "stdout",
     "output_type": "stream",
     "text": [
      "--2023-11-03 21:34:49--  https://thredds-test.unidata.ucar.edu/thredds/fileServer/casestudies/ncar_ml/sst.mon.mean.trefadj.anom.1880to2018.nc\n",
      "Resolving thredds-test.unidata.ucar.edu (thredds-test.unidata.ucar.edu)... 128.117.135.122\n",
      "Connecting to thredds-test.unidata.ucar.edu (thredds-test.unidata.ucar.edu)|128.117.135.122|:443... connected.\n",
      "HTTP request sent, awaiting response... 200 200\n",
      "Length: 432481041 (412M) [application/x-netcdf]\n",
      "Saving to: ‘0_data/sst.mon.mean.trefadj.anom.1880to2018.nc’\n",
      "\n",
      "sst.mon.mean.trefad 100%[===================>] 412.45M  90.0MB/s    in 4.9s    \n",
      "\n",
      "2023-11-03 21:34:54 (85.0 MB/s) - ‘0_data/sst.mon.mean.trefadj.anom.1880to2018.nc’ saved [432481041/432481041]\n",
      "\n"
     ]
    }
   ],
   "source": [
    "!wget https://thredds-test.unidata.ucar.edu/thredds/fileServer/casestudies/ncar_ml/sst.mon.mean.trefadj.anom.1880to2018.nc -P 0_data/"
   ]
  },
  {
   "cell_type": "code",
   "execution_count": 2,
   "id": "672b5df5-38a9-4c73-a8d3-51e111a66e47",
   "metadata": {
    "tags": []
   },
   "outputs": [
    {
     "name": "stdout",
     "output_type": "stream",
     "text": [
      "--2023-11-03 21:34:54--  https://thredds-test.unidata.ucar.edu/thredds/fileServer/casestudies/ncar_ml/ptype_data_workshop.parquet\n",
      "Resolving thredds-test.unidata.ucar.edu (thredds-test.unidata.ucar.edu)... 128.117.135.122\n",
      "Connecting to thredds-test.unidata.ucar.edu (thredds-test.unidata.ucar.edu)|128.117.135.122|:443... connected.\n",
      "HTTP request sent, awaiting response... 200 200\n",
      "Length: 1680479103 (1.6G) [application/octet-stream]\n",
      "Saving to: ‘0_data/ptype_data_workshop.parquet’\n",
      "\n",
      "ptype_data_workshop 100%[===================>]   1.56G  89.6MB/s    in 19s     \n",
      "\n",
      "2023-11-03 21:35:13 (84.5 MB/s) - ‘0_data/ptype_data_workshop.parquet’ saved [1680479103/1680479103]\n",
      "\n"
     ]
    }
   ],
   "source": [
    "!wget https://thredds-test.unidata.ucar.edu/thredds/fileServer/casestudies/ncar_ml/ptype_data_workshop.parquet -P 0_data/"
   ]
  }
 ],
 "metadata": {
  "kernelspec": {
   "display_name": "Python [conda env:unidata-standard]",
   "language": "python",
   "name": "conda-env-unidata-standard-py"
  },
  "language_info": {
   "codemirror_mode": {
    "name": "ipython",
    "version": 3
   },
   "file_extension": ".py",
   "mimetype": "text/x-python",
   "name": "python",
   "nbconvert_exporter": "python",
   "pygments_lexer": "ipython3",
   "version": "3.8.18"
  }
 },
 "nbformat": 4,
 "nbformat_minor": 5
}
