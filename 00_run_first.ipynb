{
 "cells": [
  {
   "cell_type": "markdown",
   "id": "baa12fbf-08ca-44e3-9c8e-7a17c40c3ca6",
   "metadata": {},
   "source": [
    "# Restart Kernal and Run All Cells"
   ]
  },
  {
   "cell_type": "markdown",
   "id": "f7b213df-00cd-4859-b2fc-ccd61f1a18cb",
   "metadata": {},
   "source": [
    "Do this notebook first :) If you have any issues, please send Thomas Martin (tmartin at ucar dot edu) a note."
   ]
  },
  {
   "cell_type": "code",
   "execution_count": 1,
   "id": "b2ac756a-ceb9-49e7-9211-2c7a57d005bd",
   "metadata": {
    "tags": []
   },
   "outputs": [
    {
     "name": "stdout",
     "output_type": "stream",
     "text": [
      "--2023-11-03 21:34:49--  https://thredds-test.unidata.ucar.edu/thredds/fileServer/casestudies/ncar_ml/sst.mon.mean.trefadj.anom.1880to2018.nc\n",
      "Resolving thredds-test.unidata.ucar.edu (thredds-test.unidata.ucar.edu)... 128.117.135.122\n",
      "Connecting to thredds-test.unidata.ucar.edu (thredds-test.unidata.ucar.edu)|128.117.135.122|:443... connected.\n",
      "HTTP request sent, awaiting response... 200 200\n",
      "Length: 432481041 (412M) [application/x-netcdf]\n",
      "Saving to: ‘0_data/sst.mon.mean.trefadj.anom.1880to2018.nc’\n",
      "\n",
      "sst.mon.mean.trefad 100%[===================>] 412.45M  90.0MB/s    in 4.9s    \n",
      "\n",
      "2023-11-03 21:34:54 (85.0 MB/s) - ‘0_data/sst.mon.mean.trefadj.anom.1880to2018.nc’ saved [432481041/432481041]\n",
      "\n"
     ]
    }
   ],
   "source": [
    "!wget https://thredds-test.unidata.ucar.edu/thredds/fileServer/casestudies/ncar_ml/sst.mon.mean.trefadj.anom.1880to2018.nc -P 0_data/"
   ]
  },
  {
   "cell_type": "code",
   "execution_count": 2,
   "id": "672b5df5-38a9-4c73-a8d3-51e111a66e47",
   "metadata": {
    "tags": []
   },
   "outputs": [
    {
     "name": "stdout",
     "output_type": "stream",
     "text": [
      "--2023-11-03 21:34:54--  https://thredds-test.unidata.ucar.edu/thredds/fileServer/casestudies/ncar_ml/ptype_data_workshop.parquet\n",
      "Resolving thredds-test.unidata.ucar.edu (thredds-test.unidata.ucar.edu)... 128.117.135.122\n",
      "Connecting to thredds-test.unidata.ucar.edu (thredds-test.unidata.ucar.edu)|128.117.135.122|:443... connected.\n",
      "HTTP request sent, awaiting response... 200 200\n",
      "Length: 1680479103 (1.6G) [application/octet-stream]\n",
      "Saving to: ‘0_data/ptype_data_workshop.parquet’\n",
      "\n",
      "ptype_data_workshop 100%[===================>]   1.56G  89.6MB/s    in 19s     \n",
      "\n",
      "2023-11-03 21:35:13 (84.5 MB/s) - ‘0_data/ptype_data_workshop.parquet’ saved [1680479103/1680479103]\n",
      "\n"
     ]
    }
   ],
   "source": [
    "!wget https://thredds-test.unidata.ucar.edu/thredds/fileServer/casestudies/ncar_ml/ptype_data_workshop.parquet -P 0_data/"
   ]
  },
  {
   "cell_type": "code",
   "execution_count": 3,
   "id": "d04dcb34-415f-447b-a44c-874ac5432929",
   "metadata": {
    "tags": []
   },
   "outputs": [
    {
     "name": "stdout",
     "output_type": "stream",
     "text": [
      "Requirement already satisfied: scikit-learn in /opt/conda/envs/unidata-standard/lib/python3.8/site-packages (1.3.2)\n",
      "Requirement already satisfied: numpy<2.0,>=1.17.3 in /opt/conda/envs/unidata-standard/lib/python3.8/site-packages (from scikit-learn) (1.24.4)\n",
      "Requirement already satisfied: scipy>=1.5.0 in /opt/conda/envs/unidata-standard/lib/python3.8/site-packages (from scikit-learn) (1.9.1)\n",
      "Requirement already satisfied: joblib>=1.1.1 in /opt/conda/envs/unidata-standard/lib/python3.8/site-packages (from scikit-learn) (1.3.2)\n",
      "Requirement already satisfied: threadpoolctl>=2.0.0 in /opt/conda/envs/unidata-standard/lib/python3.8/site-packages (from scikit-learn) (3.2.0)\n"
     ]
    }
   ],
   "source": [
    "!pip install scikit-learn --upgrade"
   ]
  },
  {
   "cell_type": "code",
   "execution_count": 4,
   "id": "62523151-6e50-4bae-b2aa-085d4340fd1f",
   "metadata": {
    "tags": []
   },
   "outputs": [
    {
     "data": {
      "text/plain": [
       "'1.3.2'"
      ]
     },
     "execution_count": 4,
     "metadata": {},
     "output_type": "execute_result"
    }
   ],
   "source": [
    "import sklearn\n",
    "sklearn.__version__"
   ]
  },
  {
   "cell_type": "code",
   "execution_count": 5,
   "id": "2fdde74d-ce33-45c1-9427-744b1dc8eef8",
   "metadata": {
    "tags": []
   },
   "outputs": [
    {
     "name": "stdout",
     "output_type": "stream",
     "text": [
      "Requirement already satisfied: hagelslag in /opt/conda/envs/unidata-standard/lib/python3.8/site-packages (0.5)\n",
      "Requirement already satisfied: numpy in /opt/conda/envs/unidata-standard/lib/python3.8/site-packages (from hagelslag) (1.24.4)\n",
      "Requirement already satisfied: matplotlib in /opt/conda/envs/unidata-standard/lib/python3.8/site-packages (from hagelslag) (3.5.3)\n",
      "Requirement already satisfied: scipy in /opt/conda/envs/unidata-standard/lib/python3.8/site-packages (from hagelslag) (1.9.1)\n",
      "Requirement already satisfied: xarray in /opt/conda/envs/unidata-standard/lib/python3.8/site-packages (from hagelslag) (0.19.0)\n",
      "Requirement already satisfied: pandas in /opt/conda/envs/unidata-standard/lib/python3.8/site-packages (from hagelslag) (1.0.5)\n",
      "Requirement already satisfied: scikit-image in /opt/conda/envs/unidata-standard/lib/python3.8/site-packages (from hagelslag) (0.21.0)\n",
      "Requirement already satisfied: scikit-learn in /opt/conda/envs/unidata-standard/lib/python3.8/site-packages (from hagelslag) (1.3.2)\n",
      "Requirement already satisfied: cycler>=0.10 in /opt/conda/envs/unidata-standard/lib/python3.8/site-packages (from matplotlib->hagelslag) (0.12.1)\n",
      "Requirement already satisfied: fonttools>=4.22.0 in /opt/conda/envs/unidata-standard/lib/python3.8/site-packages (from matplotlib->hagelslag) (4.44.0)\n",
      "Requirement already satisfied: kiwisolver>=1.0.1 in /opt/conda/envs/unidata-standard/lib/python3.8/site-packages (from matplotlib->hagelslag) (1.4.5)\n",
      "Requirement already satisfied: packaging>=20.0 in /opt/conda/envs/unidata-standard/lib/python3.8/site-packages (from matplotlib->hagelslag) (23.2)\n",
      "Requirement already satisfied: pillow>=6.2.0 in /opt/conda/envs/unidata-standard/lib/python3.8/site-packages (from matplotlib->hagelslag) (9.4.0)\n",
      "Requirement already satisfied: pyparsing>=2.2.1 in /opt/conda/envs/unidata-standard/lib/python3.8/site-packages (from matplotlib->hagelslag) (3.1.1)\n",
      "Requirement already satisfied: python-dateutil>=2.7 in /opt/conda/envs/unidata-standard/lib/python3.8/site-packages (from matplotlib->hagelslag) (2.8.2)\n",
      "Requirement already satisfied: pytz>=2017.2 in /opt/conda/envs/unidata-standard/lib/python3.8/site-packages (from pandas->hagelslag) (2023.3.post1)\n",
      "Requirement already satisfied: networkx>=2.8 in /opt/conda/envs/unidata-standard/lib/python3.8/site-packages (from scikit-image->hagelslag) (3.1)\n",
      "Requirement already satisfied: imageio>=2.27 in /opt/conda/envs/unidata-standard/lib/python3.8/site-packages (from scikit-image->hagelslag) (2.31.6)\n",
      "Requirement already satisfied: tifffile>=2022.8.12 in /opt/conda/envs/unidata-standard/lib/python3.8/site-packages (from scikit-image->hagelslag) (2023.7.10)\n",
      "Requirement already satisfied: PyWavelets>=1.1.1 in /opt/conda/envs/unidata-standard/lib/python3.8/site-packages (from scikit-image->hagelslag) (1.4.1)\n",
      "Requirement already satisfied: lazy_loader>=0.2 in /opt/conda/envs/unidata-standard/lib/python3.8/site-packages (from scikit-image->hagelslag) (0.3)\n",
      "Requirement already satisfied: joblib>=1.1.1 in /opt/conda/envs/unidata-standard/lib/python3.8/site-packages (from scikit-learn->hagelslag) (1.3.2)\n",
      "Requirement already satisfied: threadpoolctl>=2.0.0 in /opt/conda/envs/unidata-standard/lib/python3.8/site-packages (from scikit-learn->hagelslag) (3.2.0)\n",
      "Requirement already satisfied: setuptools>=40.4 in /opt/conda/envs/unidata-standard/lib/python3.8/site-packages (from xarray->hagelslag) (59.8.0)\n",
      "Requirement already satisfied: six>=1.5 in /opt/conda/envs/unidata-standard/lib/python3.8/site-packages (from python-dateutil>=2.7->matplotlib->hagelslag) (1.16.0)\n"
     ]
    }
   ],
   "source": [
    "!pip install hagelslag"
   ]
  },
  {
   "cell_type": "code",
   "execution_count": 6,
   "id": "4d5343a2-1db0-4b5e-96df-0d50143d0553",
   "metadata": {
    "tags": []
   },
   "outputs": [],
   "source": [
    "import hagelslag"
   ]
  },
  {
   "cell_type": "code",
   "execution_count": 7,
   "id": "18f62506-8fa7-4072-b914-8e8968c8d268",
   "metadata": {
    "tags": []
   },
   "outputs": [
    {
     "name": "stderr",
     "output_type": "stream",
     "text": [
      "/opt/conda/envs/unidata-standard/lib/python3.8/site-packages/pandas/_testing.py:24: FutureWarning: In the future `np.bool` will be defined as the corresponding NumPy scalar.\n",
      "  import pandas._libs.testing as _testing\n"
     ]
    },
    {
     "ename": "AttributeError",
     "evalue": "module 'numpy' has no attribute 'bool'.\n`np.bool` was a deprecated alias for the builtin `bool`. To avoid this error in existing code, use `bool` by itself. Doing this will not modify any behavior and is safe. If you specifically wanted the numpy scalar type, use `np.bool_` here.\nThe aliases was originally deprecated in NumPy 1.20; for more details and guidance see the original release note at:\n    https://numpy.org/devdocs/release/1.20.0-notes.html#deprecations",
     "output_type": "error",
     "traceback": [
      "\u001b[0;31m---------------------------------------------------------------------------\u001b[0m",
      "\u001b[0;31mAttributeError\u001b[0m                            Traceback (most recent call last)",
      "Cell \u001b[0;32mIn[7], line 1\u001b[0m\n\u001b[0;32m----> 1\u001b[0m \u001b[38;5;28;01mimport\u001b[39;00m \u001b[38;5;21;01mxarray\u001b[39;00m  \u001b[38;5;28;01mas\u001b[39;00m \u001b[38;5;21;01mxr\u001b[39;00m\n\u001b[1;32m      2\u001b[0m xr\u001b[38;5;241m.\u001b[39m__version__\n",
      "File \u001b[0;32m/opt/conda/envs/unidata-standard/lib/python3.8/site-packages/xarray/__init__.py:3\u001b[0m\n\u001b[1;32m      1\u001b[0m \u001b[38;5;28;01mimport\u001b[39;00m \u001b[38;5;21;01mpkg_resources\u001b[39;00m\n\u001b[0;32m----> 3\u001b[0m \u001b[38;5;28;01mfrom\u001b[39;00m \u001b[38;5;21;01m.\u001b[39;00m \u001b[38;5;28;01mimport\u001b[39;00m testing, tutorial, ufuncs\n\u001b[1;32m      4\u001b[0m \u001b[38;5;28;01mfrom\u001b[39;00m \u001b[38;5;21;01m.\u001b[39;00m\u001b[38;5;21;01mbackends\u001b[39;00m\u001b[38;5;21;01m.\u001b[39;00m\u001b[38;5;21;01mapi\u001b[39;00m \u001b[38;5;28;01mimport\u001b[39;00m (\n\u001b[1;32m      5\u001b[0m     load_dataarray,\n\u001b[1;32m      6\u001b[0m     load_dataset,\n\u001b[0;32m   (...)\u001b[0m\n\u001b[1;32m     10\u001b[0m     save_mfdataset,\n\u001b[1;32m     11\u001b[0m )\n\u001b[1;32m     12\u001b[0m \u001b[38;5;28;01mfrom\u001b[39;00m \u001b[38;5;21;01m.\u001b[39;00m\u001b[38;5;21;01mbackends\u001b[39;00m\u001b[38;5;21;01m.\u001b[39;00m\u001b[38;5;21;01mrasterio_\u001b[39;00m \u001b[38;5;28;01mimport\u001b[39;00m open_rasterio\n",
      "File \u001b[0;32m/opt/conda/envs/unidata-standard/lib/python3.8/site-packages/xarray/testing.py:8\u001b[0m\n\u001b[1;32m      4\u001b[0m \u001b[38;5;28;01mfrom\u001b[39;00m \u001b[38;5;21;01mtyping\u001b[39;00m \u001b[38;5;28;01mimport\u001b[39;00m Hashable, Set, Union\n\u001b[1;32m      6\u001b[0m \u001b[38;5;28;01mimport\u001b[39;00m \u001b[38;5;21;01mnumpy\u001b[39;00m \u001b[38;5;28;01mas\u001b[39;00m \u001b[38;5;21;01mnp\u001b[39;00m\n\u001b[0;32m----> 8\u001b[0m \u001b[38;5;28;01mfrom\u001b[39;00m \u001b[38;5;21;01mxarray\u001b[39;00m\u001b[38;5;21;01m.\u001b[39;00m\u001b[38;5;21;01mcore\u001b[39;00m \u001b[38;5;28;01mimport\u001b[39;00m duck_array_ops, formatting, utils\n\u001b[1;32m      9\u001b[0m \u001b[38;5;28;01mfrom\u001b[39;00m \u001b[38;5;21;01mxarray\u001b[39;00m\u001b[38;5;21;01m.\u001b[39;00m\u001b[38;5;21;01mcore\u001b[39;00m\u001b[38;5;21;01m.\u001b[39;00m\u001b[38;5;21;01mdataarray\u001b[39;00m \u001b[38;5;28;01mimport\u001b[39;00m DataArray\n\u001b[1;32m     10\u001b[0m \u001b[38;5;28;01mfrom\u001b[39;00m \u001b[38;5;21;01mxarray\u001b[39;00m\u001b[38;5;21;01m.\u001b[39;00m\u001b[38;5;21;01mcore\u001b[39;00m\u001b[38;5;21;01m.\u001b[39;00m\u001b[38;5;21;01mdataset\u001b[39;00m \u001b[38;5;28;01mimport\u001b[39;00m Dataset\n",
      "File \u001b[0;32m/opt/conda/envs/unidata-standard/lib/python3.8/site-packages/xarray/core/duck_array_ops.py:13\u001b[0m\n\u001b[1;32m     10\u001b[0m \u001b[38;5;28;01mfrom\u001b[39;00m \u001b[38;5;21;01mfunctools\u001b[39;00m \u001b[38;5;28;01mimport\u001b[39;00m partial\n\u001b[1;32m     12\u001b[0m \u001b[38;5;28;01mimport\u001b[39;00m \u001b[38;5;21;01mnumpy\u001b[39;00m \u001b[38;5;28;01mas\u001b[39;00m \u001b[38;5;21;01mnp\u001b[39;00m\n\u001b[0;32m---> 13\u001b[0m \u001b[38;5;28;01mimport\u001b[39;00m \u001b[38;5;21;01mpandas\u001b[39;00m \u001b[38;5;28;01mas\u001b[39;00m \u001b[38;5;21;01mpd\u001b[39;00m\n\u001b[1;32m     15\u001b[0m \u001b[38;5;28;01mfrom\u001b[39;00m \u001b[38;5;21;01m.\u001b[39;00m \u001b[38;5;28;01mimport\u001b[39;00m dask_array_compat, dask_array_ops, dtypes, npcompat, nputils\n\u001b[1;32m     16\u001b[0m \u001b[38;5;28;01mfrom\u001b[39;00m \u001b[38;5;21;01m.\u001b[39;00m\u001b[38;5;21;01mnputils\u001b[39;00m \u001b[38;5;28;01mimport\u001b[39;00m nanfirst, nanlast\n",
      "File \u001b[0;32m/opt/conda/envs/unidata-standard/lib/python3.8/site-packages/pandas/__init__.py:180\u001b[0m\n\u001b[1;32m    177\u001b[0m \u001b[38;5;28;01mfrom\u001b[39;00m \u001b[38;5;21;01mpandas\u001b[39;00m\u001b[38;5;21;01m.\u001b[39;00m\u001b[38;5;21;01mio\u001b[39;00m\u001b[38;5;21;01m.\u001b[39;00m\u001b[38;5;21;01mjson\u001b[39;00m \u001b[38;5;28;01mimport\u001b[39;00m _json_normalize \u001b[38;5;28;01mas\u001b[39;00m json_normalize\n\u001b[1;32m    179\u001b[0m \u001b[38;5;28;01mfrom\u001b[39;00m \u001b[38;5;21;01mpandas\u001b[39;00m\u001b[38;5;21;01m.\u001b[39;00m\u001b[38;5;21;01mutil\u001b[39;00m\u001b[38;5;21;01m.\u001b[39;00m\u001b[38;5;21;01m_tester\u001b[39;00m \u001b[38;5;28;01mimport\u001b[39;00m test\n\u001b[0;32m--> 180\u001b[0m \u001b[38;5;28;01mimport\u001b[39;00m \u001b[38;5;21;01mpandas\u001b[39;00m\u001b[38;5;21;01m.\u001b[39;00m\u001b[38;5;21;01mtesting\u001b[39;00m\n\u001b[1;32m    181\u001b[0m \u001b[38;5;28;01mimport\u001b[39;00m \u001b[38;5;21;01mpandas\u001b[39;00m\u001b[38;5;21;01m.\u001b[39;00m\u001b[38;5;21;01marrays\u001b[39;00m\n\u001b[1;32m    183\u001b[0m \u001b[38;5;66;03m# use the closest tagged version if possible\u001b[39;00m\n",
      "File \u001b[0;32m/opt/conda/envs/unidata-standard/lib/python3.8/site-packages/pandas/testing.py:5\u001b[0m\n\u001b[1;32m      1\u001b[0m \u001b[38;5;124;03m\"\"\"\u001b[39;00m\n\u001b[1;32m      2\u001b[0m \u001b[38;5;124;03mPublic testing utility functions.\u001b[39;00m\n\u001b[1;32m      3\u001b[0m \u001b[38;5;124;03m\"\"\"\u001b[39;00m\n\u001b[0;32m----> 5\u001b[0m \u001b[38;5;28;01mfrom\u001b[39;00m \u001b[38;5;21;01mpandas\u001b[39;00m\u001b[38;5;21;01m.\u001b[39;00m\u001b[38;5;21;01m_testing\u001b[39;00m \u001b[38;5;28;01mimport\u001b[39;00m (\n\u001b[1;32m      6\u001b[0m     assert_extension_array_equal,\n\u001b[1;32m      7\u001b[0m     assert_frame_equal,\n\u001b[1;32m      8\u001b[0m     assert_index_equal,\n\u001b[1;32m      9\u001b[0m     assert_series_equal,\n\u001b[1;32m     10\u001b[0m )\n\u001b[1;32m     12\u001b[0m __all__ \u001b[38;5;241m=\u001b[39m [\n\u001b[1;32m     13\u001b[0m     \u001b[38;5;124m\"\u001b[39m\u001b[38;5;124massert_extension_array_equal\u001b[39m\u001b[38;5;124m\"\u001b[39m,\n\u001b[1;32m     14\u001b[0m     \u001b[38;5;124m\"\u001b[39m\u001b[38;5;124massert_frame_equal\u001b[39m\u001b[38;5;124m\"\u001b[39m,\n\u001b[1;32m     15\u001b[0m     \u001b[38;5;124m\"\u001b[39m\u001b[38;5;124massert_series_equal\u001b[39m\u001b[38;5;124m\"\u001b[39m,\n\u001b[1;32m     16\u001b[0m     \u001b[38;5;124m\"\u001b[39m\u001b[38;5;124massert_index_equal\u001b[39m\u001b[38;5;124m\"\u001b[39m,\n\u001b[1;32m     17\u001b[0m ]\n",
      "File \u001b[0;32m/opt/conda/envs/unidata-standard/lib/python3.8/site-packages/pandas/_testing.py:24\u001b[0m\n\u001b[1;32m     16\u001b[0m \u001b[38;5;28;01mfrom\u001b[39;00m \u001b[38;5;21;01mnumpy\u001b[39;00m\u001b[38;5;21;01m.\u001b[39;00m\u001b[38;5;21;01mrandom\u001b[39;00m \u001b[38;5;28;01mimport\u001b[39;00m rand, randn\n\u001b[1;32m     18\u001b[0m \u001b[38;5;28;01mfrom\u001b[39;00m \u001b[38;5;21;01mpandas\u001b[39;00m\u001b[38;5;21;01m.\u001b[39;00m\u001b[38;5;21;01m_config\u001b[39;00m\u001b[38;5;21;01m.\u001b[39;00m\u001b[38;5;21;01mlocalization\u001b[39;00m \u001b[38;5;28;01mimport\u001b[39;00m (  \u001b[38;5;66;03m# noqa:F401\u001b[39;00m\n\u001b[1;32m     19\u001b[0m     can_set_locale,\n\u001b[1;32m     20\u001b[0m     get_locales,\n\u001b[1;32m     21\u001b[0m     set_locale,\n\u001b[1;32m     22\u001b[0m )\n\u001b[0;32m---> 24\u001b[0m \u001b[38;5;28;01mimport\u001b[39;00m \u001b[38;5;21;01mpandas\u001b[39;00m\u001b[38;5;21;01m.\u001b[39;00m\u001b[38;5;21;01m_libs\u001b[39;00m\u001b[38;5;21;01m.\u001b[39;00m\u001b[38;5;21;01mtesting\u001b[39;00m \u001b[38;5;28;01mas\u001b[39;00m \u001b[38;5;21;01m_testing\u001b[39;00m\n\u001b[1;32m     25\u001b[0m \u001b[38;5;28;01mfrom\u001b[39;00m \u001b[38;5;21;01mpandas\u001b[39;00m\u001b[38;5;21;01m.\u001b[39;00m\u001b[38;5;21;01m_typing\u001b[39;00m \u001b[38;5;28;01mimport\u001b[39;00m FilePathOrBuffer, FrameOrSeries\n\u001b[1;32m     26\u001b[0m \u001b[38;5;28;01mfrom\u001b[39;00m \u001b[38;5;21;01mpandas\u001b[39;00m\u001b[38;5;21;01m.\u001b[39;00m\u001b[38;5;21;01mcompat\u001b[39;00m \u001b[38;5;28;01mimport\u001b[39;00m _get_lzma_file, _import_lzma\n",
      "File \u001b[0;32mpandas/_libs/testing.pyx:10\u001b[0m, in \u001b[0;36minit pandas._libs.testing\u001b[0;34m()\u001b[0m\n",
      "File \u001b[0;32m/opt/conda/envs/unidata-standard/lib/python3.8/site-packages/numpy/__init__.py:305\u001b[0m, in \u001b[0;36m__getattr__\u001b[0;34m(attr)\u001b[0m\n\u001b[1;32m    300\u001b[0m     warnings\u001b[38;5;241m.\u001b[39mwarn(\n\u001b[1;32m    301\u001b[0m         \u001b[38;5;124mf\u001b[39m\u001b[38;5;124m\"\u001b[39m\u001b[38;5;124mIn the future `np.\u001b[39m\u001b[38;5;132;01m{\u001b[39;00mattr\u001b[38;5;132;01m}\u001b[39;00m\u001b[38;5;124m` will be defined as the \u001b[39m\u001b[38;5;124m\"\u001b[39m\n\u001b[1;32m    302\u001b[0m         \u001b[38;5;124m\"\u001b[39m\u001b[38;5;124mcorresponding NumPy scalar.\u001b[39m\u001b[38;5;124m\"\u001b[39m, \u001b[38;5;167;01mFutureWarning\u001b[39;00m, stacklevel\u001b[38;5;241m=\u001b[39m\u001b[38;5;241m2\u001b[39m)\n\u001b[1;32m    304\u001b[0m \u001b[38;5;28;01mif\u001b[39;00m attr \u001b[38;5;129;01min\u001b[39;00m __former_attrs__:\n\u001b[0;32m--> 305\u001b[0m     \u001b[38;5;28;01mraise\u001b[39;00m \u001b[38;5;167;01mAttributeError\u001b[39;00m(__former_attrs__[attr])\n\u001b[1;32m    307\u001b[0m \u001b[38;5;66;03m# Importing Tester requires importing all of UnitTest which is not a\u001b[39;00m\n\u001b[1;32m    308\u001b[0m \u001b[38;5;66;03m# cheap import Since it is mainly used in test suits, we lazy import it\u001b[39;00m\n\u001b[1;32m    309\u001b[0m \u001b[38;5;66;03m# here to save on the order of 10 ms of import time for most users\u001b[39;00m\n\u001b[1;32m    310\u001b[0m \u001b[38;5;66;03m#\u001b[39;00m\n\u001b[1;32m    311\u001b[0m \u001b[38;5;66;03m# The previous way Tester was imported also had a side effect of adding\u001b[39;00m\n\u001b[1;32m    312\u001b[0m \u001b[38;5;66;03m# the full `numpy.testing` namespace\u001b[39;00m\n\u001b[1;32m    313\u001b[0m \u001b[38;5;28;01mif\u001b[39;00m attr \u001b[38;5;241m==\u001b[39m \u001b[38;5;124m'\u001b[39m\u001b[38;5;124mtesting\u001b[39m\u001b[38;5;124m'\u001b[39m:\n",
      "\u001b[0;31mAttributeError\u001b[0m: module 'numpy' has no attribute 'bool'.\n`np.bool` was a deprecated alias for the builtin `bool`. To avoid this error in existing code, use `bool` by itself. Doing this will not modify any behavior and is safe. If you specifically wanted the numpy scalar type, use `np.bool_` here.\nThe aliases was originally deprecated in NumPy 1.20; for more details and guidance see the original release note at:\n    https://numpy.org/devdocs/release/1.20.0-notes.html#deprecations"
     ]
    }
   ],
   "source": [
    "import xarray  as xr\n",
    "xr.__version__"
   ]
  },
  {
   "cell_type": "code",
   "execution_count": null,
   "id": "ae5bb475-1048-45d0-bc83-d0418a73291b",
   "metadata": {
    "tags": []
   },
   "outputs": [],
   "source": [
    "!pip install seaborn"
   ]
  },
  {
   "cell_type": "code",
   "execution_count": null,
   "id": "6e658138-4c56-4235-803c-1192e0a55436",
   "metadata": {
    "tags": []
   },
   "outputs": [],
   "source": [
    "import seaborn as sns\n",
    "sns.__version__"
   ]
  },
  {
   "cell_type": "code",
   "execution_count": null,
   "id": "817c9652-b28f-4813-a6dd-2171fb7cede6",
   "metadata": {},
   "outputs": [],
   "source": []
  }
 ],
 "metadata": {
  "kernelspec": {
   "display_name": "Python [conda env:unidata-standard]",
   "language": "python",
   "name": "conda-env-unidata-standard-py"
  },
  "language_info": {
   "codemirror_mode": {
    "name": "ipython",
    "version": 3
   },
   "file_extension": ".py",
   "mimetype": "text/x-python",
   "name": "python",
   "nbconvert_exporter": "python",
   "pygments_lexer": "ipython3",
   "version": "3.8.18"
  }
 },
 "nbformat": 4,
 "nbformat_minor": 5
}
